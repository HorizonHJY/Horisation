{
 "cells": [
  {
   "metadata": {
    "ExecuteTime": {
     "end_time": "2025-09-20T18:47:22.645087Z",
     "start_time": "2025-09-20T18:47:22.637616Z"
    }
   },
   "cell_type": "code",
   "source": [
    "import pandas as pd\n",
    "from openpyxl import load_workbook\n",
    "from openpyxl.styles import PatternFill\n",
    "\n",
    "def diff_highlight(df1: pd.DataFrame, df2: pd.DataFrame, mapping: list[dict]) -> None:\n",
    "    for m in mapping:\n",
    "        suffix1 = m.get('suffix1', [])\n",
    "        suffix2 = m.get('suffix2', [])\n",
    "        out_file = m.get('out_file', [])\n",
    "    \n",
    "    df1_renamed = df1.add_suffix(f\"_{suffix1}\") if suffix1 else df1.copy()\n",
    "    df2_renamed = df2.add_suffix(f\"_{suffix2}\") if suffix2 else df2.copy()\n",
    "    \n",
    "    merged = pd.DataFrame()\n",
    "    for col in df1.columns:\n",
    "        merged[f\"{col}_{suffix1}\" if suffix1 else col] = df1[col]\n",
    "        merged[f\"{col}_{suffix2}\" if suffix2 else col] = df2[col]\n",
    "    merged.to_excel(out_file, index=False)\n",
    "\n",
    "    wb = load_workbook(out_file)\n",
    "    ws = wb.active\n",
    "\n",
    "    fill_up = PatternFill(start_color=\"FFFF00\", end_color=\"FFFF00\", fill_type=\"solid\") \n",
    "    fill_down = PatternFill(start_color=\"00FF00\", end_color=\"00FF00\", fill_type=\"solid\") \n",
    "\n",
    "    for j, col in enumerate(df1.columns):\n",
    "        col1 = 2 * j + 1   \n",
    "        col2 = 2 * j + 2   \n",
    "\n",
    "        for i in range(len(df1)):\n",
    "            val1 = df1.iloc[i, j]\n",
    "            val2 = df2.iloc[i, j]\n",
    "\n",
    "            if pd.notna(val1) and pd.notna(val2) and val1 != val2:\n",
    "                cell = ws.cell(row=i+2, column=col2)  \n",
    "                if val2 > val1:\n",
    "                    cell.fill = fill_up\n",
    "                else:\n",
    "                    cell.fill = fill_down\n",
    "\n",
    "    wb.save(out_file)\n"
   ],
   "id": "23946f84e12714a5",
   "outputs": [],
   "execution_count": 46
  },
  {
   "metadata": {
    "ExecuteTime": {
     "end_time": "2025-09-20T18:48:58.707090Z",
     "start_time": "2025-09-20T18:48:58.660936Z"
    }
   },
   "cell_type": "code",
   "source": [
    "df1 = pd.read_excel(\"Q1_inventory.xlsx\")\n",
    "df2 = pd.read_excel(\"Q2_inventory.xlsx\")\n",
    "mapping = [{\n",
    "    \"suffix1\": \"Q1\",                 \n",
    "    \"suffix2\": \"Q2\",                 \n",
    "    \"out_file\": \"Q2_inventory_after.xlsx\"  \n",
    "}]\n",
    "\n",
    "diff_highlight(df1, df2, mapping)\n"
   ],
   "id": "f5ed3d7f749bf6",
   "outputs": [],
   "execution_count": 47
  },
  {
   "metadata": {},
   "cell_type": "markdown",
   "source": "",
   "id": "244c3eb639c0b66e"
  },
  {
   "metadata": {
    "ExecuteTime": {
     "end_time": "2025-09-20T19:23:17.358407Z",
     "start_time": "2025-09-20T19:23:17.338373Z"
    }
   },
   "cell_type": "code",
   "source": [
    "def write_diff_report(df1: pd.DataFrame, df2: pd.DataFrame, mapping: list[dict] ) -> None:\n",
    "    for m in mapping:\n",
    "        sheet_suffix1 = m.get('sheet_suffix1', '_1')\n",
    "        sheet_suffix2 = m.get('sheet_suffix2', '_2')\n",
    "        out_file = m.get('out_file', '')\n",
    "        \n",
    "    with pd.ExcelWriter(out_file, engine=\"openpyxl\") as writer:\n",
    "        df1.to_excel(writer, sheet_name=f\"DataFrame_{sheet_suffix1}\", index=False)\n",
    "        df2.to_excel(writer, sheet_name=f\"DataFrame_{sheet_suffix2}\", index=False)\n",
    "    \n",
    "    wb = load_workbook(out_file)\n",
    "    ws2 = wb[f\"DataFrame_{sheet_suffix2}\"]\n",
    "\n",
    "    fill_up = PatternFill(start_color=\"FFFF00\", end_color=\"FFFF00\", fill_type=\"solid\")   \n",
    "    fill_down = PatternFill(start_color=\"00FF00\", end_color=\"00FF00\", fill_type=\"solid\") \n",
    "\n",
    "    diffs = []\n",
    "    common_cols = [col for col in df1.columns if col in df2.columns]\n",
    "\n",
    "    for col in common_cols:\n",
    "        col_idx = df2.columns.get_loc(col) + 1 \n",
    "        for r in range(len(df1)):\n",
    "            val1 = df1.iloc[r][col]\n",
    "            val2 = df2.iloc[r][col]\n",
    "\n",
    "            if pd.notna(val1) and pd.notna(val2) and val1 != val2:\n",
    "                row_idx = r + 2  \n",
    "                if val2 > val1:\n",
    "                    ws2.cell(row=row_idx, column=col_idx).fill = fill_up\n",
    "                    change = \"Up\"\n",
    "                else:\n",
    "                    ws2.cell(row=row_idx, column=col_idx).fill = fill_down\n",
    "                    change = \"Down\"\n",
    "\n",
    "                diffs.append({\n",
    "                    \"Row\": row_idx,\n",
    "                    \"Column\": col,\n",
    "                    f\"Old{sheet_suffix1}\": val1,\n",
    "                    f\"New{sheet_suffix2}\": val2,\n",
    "                    \"Change\": change\n",
    "                })\n",
    "\n",
    "    wb.save(out_file)\n",
    "    \n",
    "    if diffs:\n",
    "        df_diff = pd.DataFrame(diffs)\n",
    "        with pd.ExcelWriter(out_file, engine=\"openpyxl\", mode=\"a\") as writer:\n",
    "            df_diff.to_excel(writer, sheet_name=\"Diff Summary\", index=False)\n",
    "    \n",
    "    \n"
   ],
   "id": "69b90da2fdef03bd",
   "outputs": [],
   "execution_count": 57
  },
  {
   "metadata": {
    "ExecuteTime": {
     "end_time": "2025-09-20T19:23:19.273058Z",
     "start_time": "2025-09-20T19:23:19.226921Z"
    }
   },
   "cell_type": "code",
   "source": [
    "df1 = pd.read_excel(\"Q1_inventory.xlsx\")\n",
    "df2 = pd.read_excel(\"Q2_inventory.xlsx\")\n",
    "\n",
    "mapping = [{\n",
    "    \"suffix1\": \"Q1\",\n",
    "    \"suffix2\": \"Q2\",\n",
    "    \"out_file\": \"diff_report.xlsx\"\n",
    "}]\n",
    "\n",
    "write_diff_report(df1, df2, mapping)\n"
   ],
   "id": "51f983c52e655e99",
   "outputs": [],
   "execution_count": 58
  },
  {
   "metadata": {},
   "cell_type": "code",
   "outputs": [],
   "execution_count": null,
   "source": "",
   "id": "dfc05f098889c9a6"
  }
 ],
 "metadata": {
  "kernelspec": {
   "display_name": "Python 3",
   "language": "python",
   "name": "python3"
  },
  "language_info": {
   "codemirror_mode": {
    "name": "ipython",
    "version": 2
   },
   "file_extension": ".py",
   "mimetype": "text/x-python",
   "name": "python",
   "nbconvert_exporter": "python",
   "pygments_lexer": "ipython2",
   "version": "2.7.6"
  }
 },
 "nbformat": 4,
 "nbformat_minor": 5
}
