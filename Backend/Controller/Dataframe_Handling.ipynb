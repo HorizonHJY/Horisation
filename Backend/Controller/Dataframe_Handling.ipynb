{
 "cells": [
  {
   "cell_type": "code",
   "id": "initial_id",
   "metadata": {
    "collapsed": true,
    "ExecuteTime": {
     "end_time": "2025-09-20T16:17:57.058895Z",
     "start_time": "2025-09-20T16:17:57.055506Z"
    }
   },
   "source": [
    "import pandas as pd\n",
    "\n",
    "def clean_column_name(df:pd.DataFrame, cols: list[str]| None = None) -> pd.DataFrame:\n",
    "    target_cols = df.columns if cols is None else cols\n",
    "    new_cols = []\n",
    "    for col in df.columns:\n",
    "        if col in target_cols:\n",
    "            new_col = col.strip()\n",
    "            new_col = new_col.replace(' ', '_') \n",
    "            new_col = new_col.upper() \n",
    "            new_cols.append(new_col)\n",
    "        else:\n",
    "            new_cols.append(col)\n",
    "    df.columns = new_cols\n",
    "    \n",
    "    return df\n"
   ],
   "outputs": [],
   "execution_count": 21
  },
  {
   "metadata": {
    "ExecuteTime": {
     "end_time": "2025-09-20T16:17:59.159362Z",
     "start_time": "2025-09-20T16:17:59.155609Z"
    }
   },
   "cell_type": "code",
   "source": [
    "df = pd.DataFrame({\n",
    "    \" First Name \": [\"Alice\", \"Bob\"],\n",
    "    \"Last Name\": [\"Smith\", \"Lee\"],\n",
    "    \"age\": [25, 30]\n",
    "})\n",
    "\n",
    "print(\"原列名:\", df.columns.tolist())\n",
    "\n",
    "df1 = clean_column_name(df.copy())\n",
    "print(\"所有列:\", df1.columns.tolist())\n",
    "\n",
    "df2 = clean_column_name(df.copy(), cols=[\" First Name \", \"age\"])\n",
    "print(\"部分列:\", df2.columns.tolist())\n"
   ],
   "id": "672a9992dcad31fb",
   "outputs": [
    {
     "name": "stdout",
     "output_type": "stream",
     "text": [
      "原列名: [' First Name ', 'Last Name', 'age']\n",
      "所有列: ['FIRST_NAME', 'LAST_NAME', 'AGE']\n",
      "部分列: ['FIRST_NAME', 'Last Name', 'AGE']\n"
     ]
    }
   ],
   "execution_count": 22
  },
  {
   "metadata": {
    "ExecuteTime": {
     "end_time": "2025-09-20T17:40:51.559002Z",
     "start_time": "2025-09-20T17:40:51.547145Z"
    }
   },
   "cell_type": "code",
   "source": [
    "def formatting(df: pd.DataFrame, mapping: list[dict]) -> pd.DataFrame:\n",
    "    for m in mapping:\n",
    "        cols = m.get('Column', [])\n",
    "        trans_type = m.get('trans_type', None)\n",
    "        \n",
    "        if trans_type == 'str':\n",
    "            for col in cols:\n",
    "                if col in df.columns:\n",
    "                    df[col] = df[col].astype(str)     \n",
    "                    df[col] = df[col].str.upper()     \n",
    "                    df[col] = df[col].str.strip()      \n",
    "                    df[col] = df[col].str.replace(\" \", \"_\")\n",
    "        \n",
    "        elif trans_type == 'int':\n",
    "            for col in cols:\n",
    "                if col in df.columns:\n",
    "                    df[col] = pd.to_numeric(df[col], errors=\"coerce\").astype(\"Int64\") \n",
    "        \n",
    "        elif trans_type == 'float':\n",
    "            for col in cols:\n",
    "                if col in df.columns:\n",
    "                    df[col] = pd.to_numeric(df[col], errors=\"coerce\").round(4)\n",
    "        \n",
    "        elif trans_type == 'bool':\n",
    "            for col in cols:\n",
    "                if col in df.columns:\n",
    "                    df[col] = df[col].astype(\"boolean\")\n",
    "            \n",
    "        elif trans_type == 'percent':\n",
    "            for col in cols:\n",
    "                if col in df.columns:\n",
    "                    df[col] = pd.to_numeric(df[col], errors=\"coerce\") * 100\n",
    "                    df[col] = df[col].round(2)\n",
    "                    df[col] = df[col].apply(lambda x: f\"{x}%\" if pd.notna(x) else pd.NA)\n",
    "        \n",
    "        elif trans_type == 'date':\n",
    "            date_format = m.get(\"format\", \"YYYY-MM-DD\")  \n",
    "            \n",
    "            from dateutil import parser\n",
    "            def parse_date(val):\n",
    "                try:\n",
    "                    return parser.parse(str(val), dayfirst=False, yearfirst=False)\n",
    "                except Exception:\n",
    "                    return pd.NaT\n",
    "                \n",
    "            for col in cols:\n",
    "                if col in df.columns:\n",
    "                    df[col] = df[col].apply(parse_date)\n",
    "                    \n",
    "                    if date_format == \"YYYY-MM-DD\":\n",
    "                        df[col] = df[col].dt.strftime(\"%Y-%m-%d\")\n",
    "                    elif date_format == \"DD_MM_YY\":\n",
    "                        df[col] = df[col].dt.strftime(\"%d-%m-%y\")\n",
    "                    elif date_format == \"MM-YY\":\n",
    "                        df[col] = df[col].dt.strftime(\"%m-%y\")\n",
    "                        \n",
    "        elif trans_type == \"scale\":\n",
    "            factor = m.get(\"factor\", 1)\n",
    "            operation = m.get(\"operation\", \"mul\")\n",
    "            for col in cols:\n",
    "                if col in df.columns:\n",
    "                    df[col] = pd.to_numeric(df[col], errors=\"coerce\")  # 转数值\n",
    "                    if operation == \"mul\":\n",
    "                        df[col] = df[col] * factor\n",
    "                    elif operation == \"div\":\n",
    "                        df[col] = df[col] / factor\n",
    "                    elif operation == \"add\":\n",
    "                        df[col] = df[col] + factor\n",
    "                    elif operation == \"sub\":\n",
    "                        df[col] = df[col] - factor\n",
    "\n",
    "                        \n",
    "        elif trans_type == 'missing':\n",
    "            strategy = m.get(\"strategy\", None)\n",
    "            for col in cols:\n",
    "                if col in df.columns:\n",
    "                    if strategy == \"mean\":\n",
    "                        df[col] = df[col].fillna(df[col].mean())\n",
    "                    elif strategy == \"median\":\n",
    "                        df[col] = df[col].fillna(df[col].median())\n",
    "                    elif strategy == \"nan\":\n",
    "                        df[col] = df[col].fillna(pd.NA)\n",
    "        \n",
    "        elif trans_type == \"outlier\":\n",
    "            method = m.get(\"method\", \"zscore\")\n",
    "            replace = m.get(\"replace\", \"nan\")\n",
    "            threshold = m.get(\"threshold\", 3)\n",
    "            for col in cols:\n",
    "                if col in df.columns:\n",
    "                    series = df[col]\n",
    "                    if method == \"zscore\":\n",
    "                        mean, std = series.mean(), series.std()\n",
    "                        mask = abs(series - mean) > threshold * std\n",
    "                    elif method == \"iqr\":\n",
    "                        q1, q3 = series.quantile([0.25, 0.75])\n",
    "                        iqr = q3 - q1\n",
    "                        mask = (series < q1 - threshold * iqr) | (series > q3 + threshold * iqr)\n",
    "                   \n",
    "                    if replace == \"mean\":\n",
    "                        df.loc[mask, col] = mean\n",
    "                    elif replace == \"median\":\n",
    "                        df.loc[mask, col] = series.median()\n",
    "                    elif replace == \"nan\":\n",
    "                        df.loc[mask, col] = pd.NA\n",
    "                        \n",
    "    df = df.astype(object).where(df.notna(), float(\"nan\"))                    \n",
    "    return df                    \n"
   ],
   "id": "5eb19ee27ea34cd3",
   "outputs": [],
   "execution_count": 23
  },
  {
   "metadata": {
    "ExecuteTime": {
     "end_time": "2025-09-20T16:10:01.434651Z",
     "start_time": "2025-09-20T16:10:01.420937Z"
    }
   },
   "cell_type": "code",
   "source": [
    "df = pd.DataFrame({\n",
    "    \"name\": [\" Alice \", \"bob\", None, \"Charlie Brown\"],     # str\n",
    "    \"score\": [3.1415926, 2.7, None, 999],                  # float + outlier\n",
    "    \"rank\": [1.0, None, 2.0, 100],                         # int + missing\n",
    "    \"growth\": [0.1234, 0.98765, None, 0.5],                # percent + missing\n",
    "    \"birthday\": [\"2024/01/05\", \"05-09-2025\", None, \"2025-12-31\"],  # date\n",
    "    \"flag\": [1, 0, None, 1]                                # bool\n",
    "})\n",
    "\n",
    "print(\"原始数据：\")\n",
    "print(df)\n",
    "\n",
    "# 定义 mapping\n",
    "mapping = [\n",
    "    {\"Column\": [\"name\"], \"trans_type\": \"str\"},\n",
    "    {\"Column\": [\"score\"], \"trans_type\": \"float\"},\n",
    "    {\"Column\": [\"rank\"], \"trans_type\": \"int\"},\n",
    "    {\"Column\": [\"flag\"], \"trans_type\": \"bool\"},\n",
    "    {\"Column\": [\"growth\"], \"trans_type\": \"percent\"},\n",
    "    {\"Column\": [\"birthday\"], \"trans_type\": \"date\", \"format\": \"DD_MM_YY\"},\n",
    "    {\"Column\": [\"rank\"], \"trans_type\": \"missing\", \"strategy\": \"median\"},\n",
    "    {\"Column\": [\"score\"], \"trans_type\": \"outlier\", \"method\": \"zscore\", \"threshold\": 3, \"replace\": \"median\"}\n",
    "]\n",
    "\n",
    "# 调用函数\n",
    "df_fmt = formatting(df.copy(), mapping)\n",
    "\n",
    "print(\"\\n格式化后的数据：\")\n",
    "print(df_fmt)\n",
    "\n",
    "print(\"\\n数据类型：\")\n",
    "print(df_fmt.dtypes)\n"
   ],
   "id": "b019ef551b4422f2",
   "outputs": [
    {
     "name": "stdout",
     "output_type": "stream",
     "text": [
      "原始数据：\n",
      "            name       score   rank   growth    birthday  flag\n",
      "0         Alice     3.141593    1.0  0.12340  2024/01/05   1.0\n",
      "1            bob    2.700000    NaN  0.98765  05-09-2025   0.0\n",
      "2           None         NaN    2.0      NaN        None   NaN\n",
      "3  Charlie Brown  999.000000  100.0  0.50000  2025-12-31   1.0\n",
      "\n",
      "格式化后的数据：\n",
      "            name   score rank  growth  birthday   flag\n",
      "0          ALICE  3.1416    1  12.34%  05-01-24   True\n",
      "1            BOB     2.7    2  98.76%  09-05-25  False\n",
      "2           NONE     NaN    2     NaN       NaN    NaN\n",
      "3  CHARLIE_BROWN   999.0  100   50.0%  31-12-25   True\n",
      "\n",
      "数据类型：\n",
      "name        object\n",
      "score       object\n",
      "rank        object\n",
      "growth      object\n",
      "birthday    object\n",
      "flag        object\n",
      "dtype: object\n"
     ]
    }
   ],
   "execution_count": 18
  },
  {
   "metadata": {
    "ExecuteTime": {
     "end_time": "2025-09-20T16:15:58.503329Z",
     "start_time": "2025-09-20T16:15:58.495560Z"
    }
   },
   "cell_type": "code",
   "source": [
    "df1 = pd.DataFrame({\n",
    "    \"id\": [1, 2, 3],\n",
    "    \"amount\": [10, 20, 30]   \n",
    "})\n",
    "mapping = [\n",
    "    {\"Column\": [\"amount\"], \"trans_type\": \"scale\", \"factor\": 10000, \"operation\": \"mul\"}\n",
    "]\n",
    "\n",
    "df1_fmt = formatting(df1.copy(), mapping)\n",
    "print(df1_fmt)\n"
   ],
   "id": "e2d9ee9bfe9f0faa",
   "outputs": [
    {
     "name": "stdout",
     "output_type": "stream",
     "text": [
      "  id  amount\n",
      "0  1  100000\n",
      "1  2  200000\n",
      "2  3  300000\n"
     ]
    }
   ],
   "execution_count": 20
  },
  {
   "metadata": {},
   "cell_type": "code",
   "outputs": [],
   "execution_count": null,
   "source": "",
   "id": "8cbfe1c18981efa3"
  }
 ],
 "metadata": {
  "kernelspec": {
   "display_name": "Python 3",
   "language": "python",
   "name": "python3"
  },
  "language_info": {
   "codemirror_mode": {
    "name": "ipython",
    "version": 2
   },
   "file_extension": ".py",
   "mimetype": "text/x-python",
   "name": "python",
   "nbconvert_exporter": "python",
   "pygments_lexer": "ipython2",
   "version": "2.7.6"
  }
 },
 "nbformat": 4,
 "nbformat_minor": 5
}
